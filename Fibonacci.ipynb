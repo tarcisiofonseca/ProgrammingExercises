{
  "nbformat": 4,
  "nbformat_minor": 0,
  "metadata": {
    "colab": {
      "provenance": []
    },
    "kernelspec": {
      "name": "python3",
      "display_name": "Python 3"
    },
    "language_info": {
      "name": "python"
    }
  },
  "cells": [
    {
      "cell_type": "code",
      "source": [
        "#Fibonacci by iteration\n",
        "\n",
        "index = int(input())\n",
        "list = [0, 1]\n",
        "for i in range(2, index):\n",
        "  num = list[i-1] + list[i-2]\n",
        "  list.append(num)\n",
        "print(list[index-1])"
      ],
      "metadata": {
        "id": "Gbt6_TEtHGoJ"
      },
      "execution_count": null,
      "outputs": []
    },
    {
      "cell_type": "code",
      "source": [
        "#Fibonacci without list\n",
        "\n",
        "index = int(input())\n",
        "last = 0\n",
        "next = 1\n",
        "for i in range(0, index-2):\n",
        "  control = last\n",
        "  last = next\n",
        "  next += control\n",
        "print(next)"
      ],
      "metadata": {
        "id": "nSYDJGG2MpeP"
      },
      "execution_count": null,
      "outputs": []
    },
    {
      "cell_type": "code",
      "execution_count": null,
      "metadata": {
        "id": "HK6IcsUrFLgE"
      },
      "outputs": [],
      "source": [
        "#Fibonacci by recursive function\n",
        "\n",
        "def fibonacci(n):\n",
        "  if n < 2:\n",
        "    return n\n",
        "  return fibonacci(n-1) + fibonacci(n-2)\n",
        "\n",
        "print(fibonacci(int(input())-1))"
      ]
    },
    {
      "cell_type": "code",
      "source": [
        "#Fibonacci by recursive function and using memoization\n",
        "\n",
        "base = {0:0, 1:1}    #pq é necessário criar dois valores base? o programa trava se não forem dois valores adjacentes\n",
        "\n",
        "def fibonacci(n):\n",
        "  if n not in base:\n",
        "    base[n] = fibonacci(n-1) + fibonacci(n-2)\n",
        "  return base[n]\n",
        "\n",
        "print(fibonacci(int(input())-1))"
      ],
      "metadata": {
        "id": "ZRuzRkrC1J2m"
      },
      "execution_count": null,
      "outputs": []
    }
  ]
}